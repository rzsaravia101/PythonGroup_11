{
 "cells": [
  {
   "cell_type": "markdown",
   "metadata": {},
   "source": [
    "# Ejercicios #"
   ]
  },
  {
   "cell_type": "markdown",
   "metadata": {},
   "source": [
    "## 1. Bisiesto ## "
   ]
  },
  {
   "cell_type": "markdown",
   "metadata": {},
   "source": [
    "Dado un año (entero positivo) determina si es bisiesto.\n",
    "> Un año es bisiesto si es divisible entre 4, excepto aquellos divisibles entre 100 pero no entre 400.\n",
    "\n",
    "[Más sobre años bisiestos](https://es.wikipedia.org/wiki/A%C3%B1o_bisiesto)"
   ]
  },
  {
   "cell_type": "code",
   "execution_count": 8,
   "metadata": {},
   "outputs": [
    {
     "name": "stdout",
     "output_type": "stream",
     "text": [
      "please write a year1993\n",
      "That is a normal year\n"
     ]
    }
   ],
   "source": [
    "inputYear=int(input('please write a year'))\n",
    "while inputYear<=0:\n",
    "        print('The year must be positive and greater that 0')\n",
    "        inputYear=int(input('please write a year'))\n",
    "if inputYear%100 ==0:\n",
    "    if inputYear%400==0:\n",
    "        print('That is a leap year')\n",
    "    else:\n",
    "        print('That is a regular year')\n",
    "elif inputYear%4==0:\n",
    "    print('That is a leap year')\n",
    "else:\n",
    "    print('That is a normal year')"
   ]
  },
  {
   "cell_type": "markdown",
   "metadata": {},
   "source": [
    "## 2. Cubos ##"
   ]
  },
  {
   "cell_type": "markdown",
   "metadata": {},
   "source": [
    "Lee un número entero positivo e imprime todos los números, positivos y pares menores a este, elevados al cubo."
   ]
  },
  {
   "cell_type": "code",
   "execution_count": 11,
   "metadata": {},
   "outputs": [
    {
     "name": "stdout",
     "output_type": "stream",
     "text": [
      "please write a number20\n",
      "8\n",
      "64\n",
      "216\n",
      "512\n",
      "1000\n",
      "1728\n",
      "2744\n",
      "4096\n",
      "5832\n",
      "8000\n"
     ]
    }
   ],
   "source": [
    "inputInteger=int(input('please write a number'))\n",
    "while inputInteger<=0:\n",
    "    print('The number must be positive and greater that 0')\n",
    "    inputInteger=int(input('please write a number'))\n",
    "for x in range(1,inputInteger+1):\n",
    "    if x%2==0 and x>0:\n",
    "        print(x**3)\n"
   ]
  },
  {
   "cell_type": "markdown",
   "metadata": {},
   "source": [
    "## 3. Suma Impares ##"
   ]
  },
  {
   "cell_type": "markdown",
   "metadata": {},
   "source": [
    "Lee un número entero e imprime la suma de todos los números positivos impares que sean menor o igual a este."
   ]
  },
  {
   "cell_type": "code",
   "execution_count": 14,
   "metadata": {},
   "outputs": [
    {
     "name": "stdout",
     "output_type": "stream",
     "text": [
      "please write a number100\n",
      "2500\n"
     ]
    }
   ],
   "source": [
    "inputInteger=int(input('please write a number'))\n",
    "while inputInteger==0:\n",
    "    print('The number must not be 0')\n",
    "    inputInteger=int(input('please write a number'))\n",
    "cumSum=0\n",
    "if inputInteger>0:\n",
    "    for x in range(1,inputInteger+1):\n",
    "        if x%2!=0 and x>=0:\n",
    "            cumSum+=x\n",
    "print(cumSum)"
   ]
  },
  {
   "cell_type": "markdown",
   "metadata": {},
   "source": [
    "## 4. Sistema Binario ##"
   ]
  },
  {
   "cell_type": "markdown",
   "metadata": {},
   "source": [
    "Lee un número entero positivo e imprímelo convertido al sistema binario."
   ]
  },
  {
   "cell_type": "code",
   "execution_count": 23,
   "metadata": {},
   "outputs": [
    {
     "name": "stdout",
     "output_type": "stream",
     "text": [
      "please write a number20\n",
      "10100\n"
     ]
    }
   ],
   "source": [
    "inputInteger=int(input('please write a number'))\n",
    "while inputInteger<=0:\n",
    "    print('The number must be positive and greater that 0')\n",
    "    inputInteger=int(input('please write a number'))\n",
    "base=2\n",
    "reminder=inputInteger\n",
    "convertedInteger=''\n",
    "while reminder>=base:\n",
    "    convertedInteger=str(reminder%base)+convertedInteger\n",
    "    reminder=reminder//base\n",
    "convertedInteger=str(reminder)+convertedInteger\n",
    "print(convertedInteger)\n",
    "\n",
    "    "
   ]
  },
  {
   "cell_type": "code",
   "execution_count": null,
   "metadata": {},
   "outputs": [],
   "source": []
  }
 ],
 "metadata": {
  "kernelspec": {
   "display_name": "Python 3",
   "language": "python",
   "name": "python3"
  },
  "language_info": {
   "codemirror_mode": {
    "name": "ipython",
    "version": 3
   },
   "file_extension": ".py",
   "mimetype": "text/x-python",
   "name": "python",
   "nbconvert_exporter": "python",
   "pygments_lexer": "ipython3",
   "version": "3.7.0"
  }
 },
 "nbformat": 4,
 "nbformat_minor": 2
}
