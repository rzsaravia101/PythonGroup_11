{
 "cells": [
  {
   "cell_type": "markdown",
   "metadata": {},
   "source": [
    "# Ejemplos de Clase #"
   ]
  },
  {
   "cell_type": "markdown",
   "metadata": {},
   "source": [
    "## 1. Promedios ##\n",
    "\n",
    "Dada una lista de enteros que representan medidas de altura de plantas, el profesor de botánica Dr. Pierre Curie te pide de favor que calcules el promedio de altura de todas las plantas y además lo más importante, el promedio de las plantas con alturas distintas.\n",
    "\n",
    "### Solución ###"
   ]
  },
  {
   "cell_type": "markdown",
   "metadata": {},
   "source": [
    "## 2. Pares de sumas ##\n",
    "\n",
    "Dada una lista de números enteros y un valor dado `m`, debes encontrar todos los pares de elementos de la lista que sumen `m`.\n",
    "\n",
    "### Solución ###"
   ]
  },
  {
   "cell_type": "markdown",
   "metadata": {},
   "source": []
  },
  {
   "cell_type": "markdown",
   "metadata": {},
   "source": [
    "for x in range(1,10):\n",
    "    print(x)"
   ]
  },
  {
   "cell_type": "code",
   "execution_count": 5,
   "metadata": {},
   "outputs": [
    {
     "name": "stdout",
     "output_type": "stream",
     "text": [
      "4\n",
      "1234321\n"
     ]
    }
   ],
   "source": [
    "n = int(input())\n",
    "text=\"\"\n",
    "for i in range(1, n+1):\n",
    "    text+=str(i)\n",
    "for i in range(1,n):\n",
    "    text+=str(n-i)\n",
    "print(text)"
   ]
  },
  {
   "cell_type": "code",
   "execution_count": 11,
   "metadata": {},
   "outputs": [
    {
     "name": "stdout",
     "output_type": "stream",
     "text": [
      "4\n",
      "1234321\n"
     ]
    }
   ],
   "source": [
    "n = int(input())\n",
    "num=((10**(n)-1)//9)**2\n",
    "print(num)"
   ]
  },
  {
   "cell_type": "code",
   "execution_count": null,
   "metadata": {},
   "outputs": [],
   "source": []
  }
 ],
 "metadata": {
  "kernelspec": {
   "display_name": "Python 3",
   "language": "python",
   "name": "python3"
  },
  "language_info": {
   "codemirror_mode": {
    "name": "ipython",
    "version": 3
   },
   "file_extension": ".py",
   "mimetype": "text/x-python",
   "name": "python",
   "nbconvert_exporter": "python",
   "pygments_lexer": "ipython3",
   "version": "3.7.0"
  }
 },
 "nbformat": 4,
 "nbformat_minor": 2
}
