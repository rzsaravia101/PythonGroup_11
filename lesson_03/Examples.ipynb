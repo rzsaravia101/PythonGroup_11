{
 "cells": [
  {
   "cell_type": "markdown",
   "metadata": {},
   "source": [
    "# Ejemplos de Clase #"
   ]
  },
  {
   "cell_type": "code",
   "execution_count": 15,
   "metadata": {},
   "outputs": [
    {
     "name": "stdout",
     "output_type": "stream",
     "text": [
      "89\n"
     ]
    }
   ],
   "source": [
    "def order(num1,num2,num3):\n",
    "    list_object=[num1,num2,num3]\n",
    "    max_number=-10000000\n",
    "    for num in list_object:\n",
    "        if num>=max_number:\n",
    "            max_number=num\n",
    "    return max_number\n",
    "\n",
    "def factorial(number):\n",
    "    if number<0:\n",
    "        return \"not valid for negative numbers\"\n",
    "    elif number==0:\n",
    "        return 1\n",
    "    else: \n",
    "        acumulative=1\n",
    "        for numb in range(1,number+1):\n",
    "            acumulative=acumulative*numb\n",
    "        return acumulative\n",
    "\n",
    "#print(factorial(0))\n",
    "\n",
    "\n",
    "\n",
    "def hanoi(number):\n",
    "    seed=1\n",
    "    for x in range(1,number+1):\n",
    "        if x==1:\n",
    "            seed=1\n",
    "        else:\n",
    "            seed=seed*2+1\n",
    "    return seed\n",
    "\n",
    "def fibonnaci(number):\n",
    "    number0=0\n",
    "    number1=1\n",
    "    if number==0:\n",
    "        return 0\n",
    "    elif number==1:\n",
    "        return 1\n",
    "    else:\n",
    "        for n in range(2,number+1):\n",
    "            c_number=number0+number1\n",
    "            number0=number1\n",
    "            number1=c_number\n",
    "        return c_number\n",
    "    \n",
    "print(fibonnaci(11))\n",
    "    \n",
    "#print(hanoi(5))\n",
    "\n",
    "#a=int(input())\n",
    "#b=int(input())\n",
    "#c=int(input())\n",
    "#print(order(a,b,c))"
   ]
  },
  {
   "cell_type": "markdown",
   "metadata": {},
   "source": [
    "## 1. Promedios ##\n",
    "\n",
    "Dada una lista de enteros que representan medidas de altura de plantas, el profesor de botánica Dr. Pierre Curie te pide de favor que calcules el promedio de altura de todas las plantas y además lo más importante, el promedio de las plantas con alturas distintas.\n",
    "\n",
    "### Solución ###"
   ]
  },
  {
   "cell_type": "markdown",
   "metadata": {},
   "source": [
    "## 2. Pares de sumas ##\n",
    "\n",
    "Dada una lista de números enteros y un valor dado `m`, debes encontrar todos los pares de elementos de la lista que sumen `m`.\n",
    "\n",
    "### Solución ###"
   ]
  },
  {
   "cell_type": "markdown",
   "metadata": {},
   "source": []
  },
  {
   "cell_type": "markdown",
   "metadata": {},
   "source": [
    "for x in range(1,10):\n",
    "    print(x)"
   ]
  },
  {
   "cell_type": "code",
   "execution_count": 5,
   "metadata": {},
   "outputs": [
    {
     "name": "stdout",
     "output_type": "stream",
     "text": [
      "4\n",
      "1234321\n"
     ]
    }
   ],
   "source": [
    "n = int(input())\n",
    "text=\"\"\n",
    "for i in range(1, n+1):\n",
    "    text+=str(i)\n",
    "for i in range(1,n):\n",
    "    text+=str(n-i)\n",
    "print(text)"
   ]
  },
  {
   "cell_type": "code",
   "execution_count": 11,
   "metadata": {},
   "outputs": [
    {
     "name": "stdout",
     "output_type": "stream",
     "text": [
      "4\n",
      "1234321\n"
     ]
    }
   ],
   "source": [
    "n = int(input())\n",
    "num=((10**(n)-1)//9)**2\n",
    "print(num)"
   ]
  },
  {
   "cell_type": "code",
   "execution_count": null,
   "metadata": {},
   "outputs": [],
   "source": []
  }
 ],
 "metadata": {
  "kernelspec": {
   "display_name": "Python 3",
   "language": "python",
   "name": "python3"
  },
  "language_info": {
   "codemirror_mode": {
    "name": "ipython",
    "version": 3
   },
   "file_extension": ".py",
   "mimetype": "text/x-python",
   "name": "python",
   "nbconvert_exporter": "python",
   "pygments_lexer": "ipython3",
   "version": "3.7.0"
  }
 },
 "nbformat": 4,
 "nbformat_minor": 2
}
